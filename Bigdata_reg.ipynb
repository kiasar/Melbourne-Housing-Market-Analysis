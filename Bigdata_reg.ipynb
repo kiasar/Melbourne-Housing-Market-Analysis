{
  "nbformat": 4,
  "nbformat_minor": 0,
  "metadata": {
    "colab": {
      "name": "Bigdata_reg.ipynb",
      "provenance": []
    },
    "kernelspec": {
      "name": "python3",
      "display_name": "Python 3"
    },
    "language_info": {
      "name": "python"
    }
  },
  "cells": [
    {
      "cell_type": "code",
      "metadata": {
        "colab": {
          "base_uri": "https://localhost:8080/"
        },
        "id": "ci2QVyO6swLD",
        "outputId": "6f33d467-91da-44b0-b3a1-4e5d4028bfc4"
      },
      "source": [
        "import pandas as pd\n",
        "import numpy as np\n",
        "import seaborn as sns\n",
        "sns.set_theme()\n",
        "\n",
        "import scipy.stats.stats as stats\n",
        "import statsmodels.api as sm\n",
        "from statsmodels.formula.api import ols"
      ],
      "execution_count": 1,
      "outputs": [
        {
          "output_type": "stream",
          "text": [
            "/usr/local/lib/python3.7/dist-packages/statsmodels/tools/_testing.py:19: FutureWarning: pandas.util.testing is deprecated. Use the functions in the public API at pandas.testing instead.\n",
            "  import pandas.util.testing as tm\n"
          ],
          "name": "stderr"
        }
      ]
    },
    {
      "cell_type": "code",
      "metadata": {
        "id": "qoNhtiBas1H-"
      },
      "source": [
        "df = pd.read_csv(\"/content/drive/MyDrive/Colab Notebooks/data/Big Data Waterloo/Melbourne_housing_FULL.csv\")"
      ],
      "execution_count": 28,
      "outputs": []
    },
    {
      "cell_type": "code",
      "metadata": {
        "id": "2WlahWlhs3Ui"
      },
      "source": [
        "df = df.dropna(subset=[\"Price\"])\n",
        "if \"Postcode\" in df: del df[\"Postcode\"]\n",
        "if \"Address\" in df: del df[\"Address\"]\n",
        "if \"SellerG\" in df: del df[\"SellerG\"]\n",
        "\n",
        "if \"YearBuilt\" in df: del df[\"YearBuilt\"]\n",
        "if \"YearBuilt\" in df: del df[\"BuildingArea\"]\n",
        "\n",
        "df = df.dropna()\n",
        "\n",
        "df['Date'] = pd.to_datetime(df['Date'])"
      ],
      "execution_count": 29,
      "outputs": []
    },
    {
      "cell_type": "code",
      "metadata": {
        "id": "RaEwzmmns9zq"
      },
      "source": [
        "# Computing IQR\n",
        "Q1 = df['Price'].quantile(0.25)\n",
        "Q3 = df['Price'].quantile(0.75)\n",
        "IQR = Q3 - Q1\n",
        "\n",
        "# Filtering Values between Q1-1.5IQR and Q3+1.5IQR\n",
        "df = df.query('(@Q1 - 1.5 * @IQR) <= Price <= (@Q3 + 1.5 * @IQR)')"
      ],
      "execution_count": 30,
      "outputs": []
    },
    {
      "cell_type": "code",
      "metadata": {
        "id": "hgkwxbFLtCRx"
      },
      "source": [
        "df = df[df['Rooms'] <= 6]\n",
        "df = df[df['Bathroom'] <= 4] \n",
        "df = df[df['Type'] == \"h\"]  \n",
        "df[\"logprice\"] = np.log(df[\"Price\"])\n",
        "\n",
        "df = df[ (df['Regionname'] == 'Western Metropolitan')|(df['Regionname'] == 'South-Eastern Metropolitan')]\n",
        "\n",
        "# df.to_csv(\"reg_data.csv\")"
      ],
      "execution_count": 31,
      "outputs": []
    },
    {
      "cell_type": "code",
      "metadata": {
        "colab": {
          "base_uri": "https://localhost:8080/",
          "height": 690
        },
        "id": "SnFt9T7oCpI0",
        "outputId": "5ec8df00-79cf-4cb3-aa4e-1593040fe492"
      },
      "source": [
        "df"
      ],
      "execution_count": 32,
      "outputs": [
        {
          "output_type": "execute_result",
          "data": {
            "text/html": [
              "<div>\n",
              "<style scoped>\n",
              "    .dataframe tbody tr th:only-of-type {\n",
              "        vertical-align: middle;\n",
              "    }\n",
              "\n",
              "    .dataframe tbody tr th {\n",
              "        vertical-align: top;\n",
              "    }\n",
              "\n",
              "    .dataframe thead th {\n",
              "        text-align: right;\n",
              "    }\n",
              "</style>\n",
              "<table border=\"1\" class=\"dataframe\">\n",
              "  <thead>\n",
              "    <tr style=\"text-align: right;\">\n",
              "      <th></th>\n",
              "      <th>Suburb</th>\n",
              "      <th>Rooms</th>\n",
              "      <th>Type</th>\n",
              "      <th>Price</th>\n",
              "      <th>Method</th>\n",
              "      <th>Date</th>\n",
              "      <th>Distance</th>\n",
              "      <th>Bedroom2</th>\n",
              "      <th>Bathroom</th>\n",
              "      <th>Car</th>\n",
              "      <th>Landsize</th>\n",
              "      <th>BuildingArea</th>\n",
              "      <th>CouncilArea</th>\n",
              "      <th>Lattitude</th>\n",
              "      <th>Longtitude</th>\n",
              "      <th>Regionname</th>\n",
              "      <th>Propertycount</th>\n",
              "      <th>logprice</th>\n",
              "    </tr>\n",
              "  </thead>\n",
              "  <tbody>\n",
              "    <tr>\n",
              "      <th>67</th>\n",
              "      <td>Airport West</td>\n",
              "      <td>3</td>\n",
              "      <td>h</td>\n",
              "      <td>730000.0</td>\n",
              "      <td>VB</td>\n",
              "      <td>2016-03-12</td>\n",
              "      <td>13.5</td>\n",
              "      <td>3.0</td>\n",
              "      <td>2.0</td>\n",
              "      <td>1.0</td>\n",
              "      <td>0.0</td>\n",
              "      <td>145.0</td>\n",
              "      <td>Moonee Valley City Council</td>\n",
              "      <td>-37.72030</td>\n",
              "      <td>144.87550</td>\n",
              "      <td>Western Metropolitan</td>\n",
              "      <td>3464.0</td>\n",
              "      <td>13.500800</td>\n",
              "    </tr>\n",
              "    <tr>\n",
              "      <th>68</th>\n",
              "      <td>Airport West</td>\n",
              "      <td>3</td>\n",
              "      <td>h</td>\n",
              "      <td>770000.0</td>\n",
              "      <td>SP</td>\n",
              "      <td>2017-04-03</td>\n",
              "      <td>13.5</td>\n",
              "      <td>3.0</td>\n",
              "      <td>2.0</td>\n",
              "      <td>1.0</td>\n",
              "      <td>0.0</td>\n",
              "      <td>145.0</td>\n",
              "      <td>Moonee Valley City Council</td>\n",
              "      <td>-37.72030</td>\n",
              "      <td>144.87550</td>\n",
              "      <td>Western Metropolitan</td>\n",
              "      <td>3464.0</td>\n",
              "      <td>13.554146</td>\n",
              "    </tr>\n",
              "    <tr>\n",
              "      <th>70</th>\n",
              "      <td>Airport West</td>\n",
              "      <td>2</td>\n",
              "      <td>h</td>\n",
              "      <td>603000.0</td>\n",
              "      <td>S</td>\n",
              "      <td>2017-04-03</td>\n",
              "      <td>13.5</td>\n",
              "      <td>2.0</td>\n",
              "      <td>1.0</td>\n",
              "      <td>1.0</td>\n",
              "      <td>272.0</td>\n",
              "      <td>84.0</td>\n",
              "      <td>Moonee Valley City Council</td>\n",
              "      <td>-37.72940</td>\n",
              "      <td>144.88800</td>\n",
              "      <td>Western Metropolitan</td>\n",
              "      <td>3464.0</td>\n",
              "      <td>13.309672</td>\n",
              "    </tr>\n",
              "    <tr>\n",
              "      <th>72</th>\n",
              "      <td>Airport West</td>\n",
              "      <td>3</td>\n",
              "      <td>h</td>\n",
              "      <td>600000.0</td>\n",
              "      <td>S</td>\n",
              "      <td>2017-04-03</td>\n",
              "      <td>13.5</td>\n",
              "      <td>2.0</td>\n",
              "      <td>1.0</td>\n",
              "      <td>1.0</td>\n",
              "      <td>290.0</td>\n",
              "      <td>116.0</td>\n",
              "      <td>Moonee Valley City Council</td>\n",
              "      <td>-37.72730</td>\n",
              "      <td>144.87440</td>\n",
              "      <td>Western Metropolitan</td>\n",
              "      <td>3464.0</td>\n",
              "      <td>13.304685</td>\n",
              "    </tr>\n",
              "    <tr>\n",
              "      <th>80</th>\n",
              "      <td>Airport West</td>\n",
              "      <td>4</td>\n",
              "      <td>h</td>\n",
              "      <td>785000.0</td>\n",
              "      <td>S</td>\n",
              "      <td>2016-06-08</td>\n",
              "      <td>13.5</td>\n",
              "      <td>3.0</td>\n",
              "      <td>1.0</td>\n",
              "      <td>2.0</td>\n",
              "      <td>597.0</td>\n",
              "      <td>127.0</td>\n",
              "      <td>Moonee Valley City Council</td>\n",
              "      <td>-37.72590</td>\n",
              "      <td>144.87920</td>\n",
              "      <td>Western Metropolitan</td>\n",
              "      <td>3464.0</td>\n",
              "      <td>13.573439</td>\n",
              "    </tr>\n",
              "    <tr>\n",
              "      <th>...</th>\n",
              "      <td>...</td>\n",
              "      <td>...</td>\n",
              "      <td>...</td>\n",
              "      <td>...</td>\n",
              "      <td>...</td>\n",
              "      <td>...</td>\n",
              "      <td>...</td>\n",
              "      <td>...</td>\n",
              "      <td>...</td>\n",
              "      <td>...</td>\n",
              "      <td>...</td>\n",
              "      <td>...</td>\n",
              "      <td>...</td>\n",
              "      <td>...</td>\n",
              "      <td>...</td>\n",
              "      <td>...</td>\n",
              "      <td>...</td>\n",
              "      <td>...</td>\n",
              "    </tr>\n",
              "    <tr>\n",
              "      <th>34828</th>\n",
              "      <td>West Footscray</td>\n",
              "      <td>3</td>\n",
              "      <td>h</td>\n",
              "      <td>900000.0</td>\n",
              "      <td>PI</td>\n",
              "      <td>2018-02-24</td>\n",
              "      <td>6.4</td>\n",
              "      <td>3.0</td>\n",
              "      <td>1.0</td>\n",
              "      <td>2.0</td>\n",
              "      <td>460.0</td>\n",
              "      <td>112.0</td>\n",
              "      <td>Maribyrnong City Council</td>\n",
              "      <td>-37.80139</td>\n",
              "      <td>144.86458</td>\n",
              "      <td>Western Metropolitan</td>\n",
              "      <td>5058.0</td>\n",
              "      <td>13.710150</td>\n",
              "    </tr>\n",
              "    <tr>\n",
              "      <th>34836</th>\n",
              "      <td>Wheelers Hill</td>\n",
              "      <td>5</td>\n",
              "      <td>h</td>\n",
              "      <td>1400000.0</td>\n",
              "      <td>S</td>\n",
              "      <td>2018-02-24</td>\n",
              "      <td>16.7</td>\n",
              "      <td>5.0</td>\n",
              "      <td>2.0</td>\n",
              "      <td>2.0</td>\n",
              "      <td>739.0</td>\n",
              "      <td>293.0</td>\n",
              "      <td>Monash City Council</td>\n",
              "      <td>-37.89304</td>\n",
              "      <td>145.18475</td>\n",
              "      <td>South-Eastern Metropolitan</td>\n",
              "      <td>7392.0</td>\n",
              "      <td>14.151983</td>\n",
              "    </tr>\n",
              "    <tr>\n",
              "      <th>34837</th>\n",
              "      <td>Williamstown</td>\n",
              "      <td>5</td>\n",
              "      <td>h</td>\n",
              "      <td>2020000.0</td>\n",
              "      <td>S</td>\n",
              "      <td>2018-02-24</td>\n",
              "      <td>6.8</td>\n",
              "      <td>5.0</td>\n",
              "      <td>3.0</td>\n",
              "      <td>2.0</td>\n",
              "      <td>450.0</td>\n",
              "      <td>241.0</td>\n",
              "      <td>Hobsons Bay City Council</td>\n",
              "      <td>-37.86180</td>\n",
              "      <td>144.87855</td>\n",
              "      <td>Western Metropolitan</td>\n",
              "      <td>6380.0</td>\n",
              "      <td>14.518608</td>\n",
              "    </tr>\n",
              "    <tr>\n",
              "      <th>34853</th>\n",
              "      <td>Yarraville</td>\n",
              "      <td>2</td>\n",
              "      <td>h</td>\n",
              "      <td>888000.0</td>\n",
              "      <td>SP</td>\n",
              "      <td>2018-02-24</td>\n",
              "      <td>6.3</td>\n",
              "      <td>2.0</td>\n",
              "      <td>2.0</td>\n",
              "      <td>1.0</td>\n",
              "      <td>98.0</td>\n",
              "      <td>104.0</td>\n",
              "      <td>Maribyrnong City Council</td>\n",
              "      <td>-37.81551</td>\n",
              "      <td>144.88826</td>\n",
              "      <td>Western Metropolitan</td>\n",
              "      <td>6543.0</td>\n",
              "      <td>13.696727</td>\n",
              "    </tr>\n",
              "    <tr>\n",
              "      <th>34856</th>\n",
              "      <td>Yarraville</td>\n",
              "      <td>2</td>\n",
              "      <td>h</td>\n",
              "      <td>1020000.0</td>\n",
              "      <td>PI</td>\n",
              "      <td>2018-02-24</td>\n",
              "      <td>6.3</td>\n",
              "      <td>2.0</td>\n",
              "      <td>1.0</td>\n",
              "      <td>0.0</td>\n",
              "      <td>250.0</td>\n",
              "      <td>103.0</td>\n",
              "      <td>Maribyrnong City Council</td>\n",
              "      <td>-37.81810</td>\n",
              "      <td>144.89351</td>\n",
              "      <td>Western Metropolitan</td>\n",
              "      <td>6543.0</td>\n",
              "      <td>13.835313</td>\n",
              "    </tr>\n",
              "  </tbody>\n",
              "</table>\n",
              "<p>2041 rows × 18 columns</p>\n",
              "</div>"
            ],
            "text/plain": [
              "               Suburb  Rooms  ... Propertycount   logprice\n",
              "67       Airport West      3  ...        3464.0  13.500800\n",
              "68       Airport West      3  ...        3464.0  13.554146\n",
              "70       Airport West      2  ...        3464.0  13.309672\n",
              "72       Airport West      3  ...        3464.0  13.304685\n",
              "80       Airport West      4  ...        3464.0  13.573439\n",
              "...               ...    ...  ...           ...        ...\n",
              "34828  West Footscray      3  ...        5058.0  13.710150\n",
              "34836   Wheelers Hill      5  ...        7392.0  14.151983\n",
              "34837    Williamstown      5  ...        6380.0  14.518608\n",
              "34853      Yarraville      2  ...        6543.0  13.696727\n",
              "34856      Yarraville      2  ...        6543.0  13.835313\n",
              "\n",
              "[2041 rows x 18 columns]"
            ]
          },
          "metadata": {
            "tags": []
          },
          "execution_count": 32
        }
      ]
    },
    {
      "cell_type": "code",
      "metadata": {
        "colab": {
          "base_uri": "https://localhost:8080/"
        },
        "id": "NvtznxoC5n4I",
        "outputId": "702e7a02-fb2d-4c23-fd63-ee0685ba5cd4"
      },
      "source": [
        "result = ols(formula=\"logprice ~ Rooms + Distance + Regionname\", data=df).fit()\n",
        "print(result.params)\n",
        "print(result.summary())"
      ],
      "execution_count": 35,
      "outputs": [
        {
          "output_type": "stream",
          "text": [
            "Intercept                             14.059635\n",
            "Regionname[T.Western Metropolitan]    -0.519258\n",
            "Rooms                                  0.169449\n",
            "Distance                              -0.038898\n",
            "dtype: float64\n",
            "                            OLS Regression Results                            \n",
            "==============================================================================\n",
            "Dep. Variable:               logprice   R-squared:                       0.458\n",
            "Model:                            OLS   Adj. R-squared:                  0.458\n",
            "Method:                 Least Squares   F-statistic:                     574.8\n",
            "Date:                Wed, 04 Aug 2021   Prob (F-statistic):          1.22e-270\n",
            "Time:                        04:04:40   Log-Likelihood:                -238.77\n",
            "No. Observations:                2041   AIC:                             485.5\n",
            "Df Residuals:                    2037   BIC:                             508.0\n",
            "Df Model:                           3                                         \n",
            "Covariance Type:            nonrobust                                         \n",
            "======================================================================================================\n",
            "                                         coef    std err          t      P>|t|      [0.025      0.975]\n",
            "------------------------------------------------------------------------------------------------------\n",
            "Intercept                             14.0596      0.040    353.572      0.000      13.982      14.138\n",
            "Regionname[T.Western Metropolitan]    -0.5193      0.022    -23.872      0.000      -0.562      -0.477\n",
            "Rooms                                  0.1694      0.008     20.878      0.000       0.154       0.185\n",
            "Distance                              -0.0389      0.001    -37.712      0.000      -0.041      -0.037\n",
            "==============================================================================\n",
            "Omnibus:                       39.098   Durbin-Watson:                   1.411\n",
            "Prob(Omnibus):                  0.000   Jarque-Bera (JB):               41.019\n",
            "Skew:                           0.332   Prob(JB):                     1.24e-09\n",
            "Kurtosis:                       3.205   Cond. No.                         115.\n",
            "==============================================================================\n",
            "\n",
            "Warnings:\n",
            "[1] Standard Errors assume that the covariance matrix of the errors is correctly specified.\n"
          ],
          "name": "stdout"
        }
      ]
    },
    {
      "cell_type": "code",
      "metadata": {
        "colab": {
          "base_uri": "https://localhost:8080/"
        },
        "id": "AjgkdtT6VaT1",
        "outputId": "e84e8919-c3c7-44f8-a25e-d917ea92cdea"
      },
      "source": [
        "result = ols(formula=\"logprice ~ Rooms + Distance + Regionname + Lattitude + Longtitude\", data=df).fit()\n",
        "print(result.params)\n",
        "print(result.summary())"
      ],
      "execution_count": 38,
      "outputs": [
        {
          "output_type": "stream",
          "text": [
            "Intercept                            -245.997295\n",
            "Regionname[T.Western Metropolitan]      0.240813\n",
            "Rooms                                   0.176104\n",
            "Distance                               -0.026406\n",
            "Lattitude                              -0.190025\n",
            "Longtitude                              1.739517\n",
            "dtype: float64\n",
            "                            OLS Regression Results                            \n",
            "==============================================================================\n",
            "Dep. Variable:               logprice   R-squared:                       0.530\n",
            "Model:                            OLS   Adj. R-squared:                  0.529\n",
            "Method:                 Least Squares   F-statistic:                     458.8\n",
            "Date:                Wed, 04 Aug 2021   Prob (F-statistic):               0.00\n",
            "Time:                        04:05:16   Log-Likelihood:                -94.326\n",
            "No. Observations:                2041   AIC:                             200.7\n",
            "Df Residuals:                    2035   BIC:                             234.4\n",
            "Df Model:                           5                                         \n",
            "Covariance Type:            nonrobust                                         \n",
            "======================================================================================================\n",
            "                                         coef    std err          t      P>|t|      [0.025      0.975]\n",
            "------------------------------------------------------------------------------------------------------\n",
            "Intercept                           -245.9973     15.302    -16.076      0.000    -276.007    -215.987\n",
            "Regionname[T.Western Metropolitan]     0.2408      0.052      4.594      0.000       0.138       0.344\n",
            "Rooms                                  0.1761      0.008     23.188      0.000       0.161       0.191\n",
            "Distance                              -0.0264      0.001    -22.057      0.000      -0.029      -0.024\n",
            "Lattitude                             -0.1900      0.085     -2.234      0.026      -0.357      -0.023\n",
            "Longtitude                             1.7395      0.099     17.567      0.000       1.545       1.934\n",
            "==============================================================================\n",
            "Omnibus:                       38.240   Durbin-Watson:                   1.536\n",
            "Prob(Omnibus):                  0.000   Jarque-Bera (JB):               44.636\n",
            "Skew:                           0.274   Prob(JB):                     2.03e-10\n",
            "Kurtosis:                       3.474   Cond. No.                     4.10e+05\n",
            "==============================================================================\n",
            "\n",
            "Warnings:\n",
            "[1] Standard Errors assume that the covariance matrix of the errors is correctly specified.\n",
            "[2] The condition number is large, 4.1e+05. This might indicate that there are\n",
            "strong multicollinearity or other numerical problems.\n"
          ],
          "name": "stdout"
        }
      ]
    },
    {
      "cell_type": "code",
      "metadata": {
        "colab": {
          "base_uri": "https://localhost:8080/"
        },
        "id": "J4oHEQLoVdLz",
        "outputId": "daf25df4-c24e-4384-e79b-d4cfc8145dfa"
      },
      "source": [
        "result = ols(formula=\"logprice ~ Rooms + Distance + Regionname + Lattitude + Longtitude\", data=df).fit()\n",
        "print(result.params)\n",
        "print(result.summary())"
      ],
      "execution_count": 55,
      "outputs": [
        {
          "output_type": "stream",
          "text": [
            "Intercept                                  -154.609162\n",
            "Regionname[T.Northern Metropolitan]          -0.116050\n",
            "Regionname[T.South-Eastern Metropolitan]      0.030404\n",
            "Regionname[T.Southern Metropolitan]           0.196700\n",
            "Regionname[T.Western Metropolitan]           -0.041213\n",
            "Rooms                                         0.174776\n",
            "Distance                                     -0.039153\n",
            "Lattitude                                    -0.628065\n",
            "Longtitude                                    0.997266\n",
            "dtype: float64\n",
            "                            OLS Regression Results                            \n",
            "==============================================================================\n",
            "Dep. Variable:               logprice   R-squared:                       0.640\n",
            "Model:                            OLS   Adj. R-squared:                  0.639\n",
            "Method:                 Least Squares   F-statistic:                     1381.\n",
            "Date:                Tue, 03 Aug 2021   Prob (F-statistic):               0.00\n",
            "Time:                        05:43:25   Log-Likelihood:                -217.55\n",
            "No. Observations:                6231   AIC:                             453.1\n",
            "Df Residuals:                    6222   BIC:                             513.7\n",
            "Df Model:                           8                                         \n",
            "Covariance Type:            nonrobust                                         \n",
            "============================================================================================================\n",
            "                                               coef    std err          t      P>|t|      [0.025      0.975]\n",
            "------------------------------------------------------------------------------------------------------------\n",
            "Intercept                                 -154.6092      7.900    -19.572      0.000    -170.095    -139.123\n",
            "Regionname[T.Northern Metropolitan]         -0.1160      0.015     -7.961      0.000      -0.145      -0.087\n",
            "Regionname[T.South-Eastern Metropolitan]     0.0304      0.022      1.393      0.164      -0.012       0.073\n",
            "Regionname[T.Southern Metropolitan]          0.1967      0.013     14.835      0.000       0.171       0.223\n",
            "Regionname[T.Western Metropolitan]          -0.0412      0.020     -2.110      0.035      -0.079      -0.003\n",
            "Rooms                                        0.1748      0.004     42.073      0.000       0.167       0.183\n",
            "Distance                                    -0.0392      0.001    -63.622      0.000      -0.040      -0.038\n",
            "Lattitude                                   -0.6281      0.056    -11.313      0.000      -0.737      -0.519\n",
            "Longtitude                                   0.9973      0.053     18.892      0.000       0.894       1.101\n",
            "==============================================================================\n",
            "Omnibus:                      490.283   Durbin-Watson:                   1.569\n",
            "Prob(Omnibus):                  0.000   Jarque-Bera (JB):             2393.713\n",
            "Skew:                          -0.212   Prob(JB):                         0.00\n",
            "Kurtosis:                       6.007   Cond. No.                     3.74e+05\n",
            "==============================================================================\n",
            "\n",
            "Warnings:\n",
            "[1] Standard Errors assume that the covariance matrix of the errors is correctly specified.\n",
            "[2] The condition number is large, 3.74e+05. This might indicate that there are\n",
            "strong multicollinearity or other numerical problems.\n"
          ],
          "name": "stdout"
        }
      ]
    },
    {
      "cell_type": "code",
      "metadata": {
        "colab": {
          "base_uri": "https://localhost:8080/",
          "height": 286
        },
        "id": "jSYZEEMci0ui",
        "outputId": "0f78cab3-ea29-4cb6-f9c3-a37b1759d19a"
      },
      "source": [
        "sns.histplot(result.resid)"
      ],
      "execution_count": 66,
      "outputs": [
        {
          "output_type": "execute_result",
          "data": {
            "text/plain": [
              "<matplotlib.axes._subplots.AxesSubplot at 0x7f3e7751b650>"
            ]
          },
          "metadata": {
            "tags": []
          },
          "execution_count": 66
        },
        {
          "output_type": "display_data",
          "data": {
            "image/png": "[encoded data removed]",
            "text/plain": [
              "<Figure size 432x288 with 1 Axes>"
            ]
          },
          "metadata": {
            "tags": []
          }
        }
      ]
    },
    {
      "cell_type": "code",
      "metadata": {
        "colab": {
          "base_uri": "https://localhost:8080/",
          "height": 295
        },
        "id": "y71WAfrxdzzJ",
        "outputId": "adf08e30-ea06-4a22-f68b-3cf97e8c150c"
      },
      "source": [
        "fig = sm.graphics.plot_leverage_resid2(result)\n",
        "fig.tight_layout(pad=1.0)"
      ],
      "execution_count": 63,
      "outputs": [
        {
          "output_type": "display_data",
          "data": {
            "image/png": "[encoded data removed]",
            "text/plain": [
              "<Figure size 432x288 with 1 Axes>"
            ]
          },
          "metadata": {
            "tags": []
          }
        }
      ]
    },
    {
      "cell_type": "code",
      "metadata": {
        "id": "Q0TWY_5LiPyp"
      },
      "source": [
        ""
      ],
      "execution_count": null,
      "outputs": []
    }
  ]
}